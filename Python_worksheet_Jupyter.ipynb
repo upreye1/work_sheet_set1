{
 "cells": [
  {
   "cell_type": "code",
   "execution_count": 12,
   "id": "829b260d",
   "metadata": {},
   "outputs": [
    {
     "name": "stdout",
     "output_type": "stream",
     "text": [
      "Enter a number: 7\n",
      "The factorial of 7 is 5040\n"
     ]
    }
   ],
   "source": [
    "# 11. Write a python program to find the factorial of a number\n",
    "\n",
    "num1 = int(input(\"Enter a number: \"))\n",
    "\n",
    "factorial = 1\n",
    "\n",
    "if num1 < 0:\n",
    "   print(\"Factors do not exist for negative numbers.\")\n",
    "elif num1 == 0:\n",
    "   print(\"factorial of 0 is 1.\")\n",
    "else:\n",
    "   for i in range(1,num1 + 1):\n",
    "       factorial = factorial*i\n",
    "   print(\"factorial of\",num1,\"is\",factorial)"
   ]
  },
  {
   "cell_type": "code",
   "execution_count": null,
   "id": "710a8145",
   "metadata": {},
   "outputs": [],
   "source": []
  },
  {
   "cell_type": "code",
   "execution_count": 5,
   "id": "1b115e48",
   "metadata": {},
   "outputs": [
    {
     "name": "stdout",
     "output_type": "stream",
     "text": [
      "Enter any Number : 6\n",
      "6 is Composite Number\n"
     ]
    }
   ],
   "source": [
    "# 12. Write a python program to find whether a number is prime or composite\n",
    "\n",
    "num1 =int(input(\"Enter any Number : \"))\n",
    "count=0\n",
    "for a in range(2,num1):\n",
    "    if num1%a==0:\n",
    "        count+=1\n",
    "if count>=1:\n",
    "    print(num1, \"is Composite Number\")\n",
    "else:\n",
    "    print(num1, \"is Prime Number\")"
   ]
  },
  {
   "cell_type": "code",
   "execution_count": null,
   "id": "0d24149f",
   "metadata": {},
   "outputs": [],
   "source": []
  },
  {
   "cell_type": "code",
   "execution_count": 17,
   "id": "4690c371",
   "metadata": {},
   "outputs": [
    {
     "name": "stdout",
     "output_type": "stream",
     "text": [
      "string is a palindrome.\n"
     ]
    }
   ],
   "source": [
    "# 13. Write a python program to check whether a given string is palindrome or not.\n",
    "str1 = 'VeloCity'\n",
    "\n",
    "\n",
    "str1 = str1.casefold()\n",
    "\n",
    "reverse_string = reversed(str1)\n",
    "\n",
    "if list(str1) == list(str1):\n",
    "   print(\"string is a palindrome.\")\n",
    "else:\n",
    "   print(\"string is not a palindrome.\")"
   ]
  },
  {
   "cell_type": "code",
   "execution_count": null,
   "id": "5d778298",
   "metadata": {},
   "outputs": [],
   "source": []
  }
 ],
 "metadata": {
  "kernelspec": {
   "display_name": "Python 3 (ipykernel)",
   "language": "python",
   "name": "python3"
  },
  "language_info": {
   "codemirror_mode": {
    "name": "ipython",
    "version": 3
   },
   "file_extension": ".py",
   "mimetype": "text/x-python",
   "name": "python",
   "nbconvert_exporter": "python",
   "pygments_lexer": "ipython3",
   "version": "3.9.13"
  }
 },
 "nbformat": 4,
 "nbformat_minor": 5
}
